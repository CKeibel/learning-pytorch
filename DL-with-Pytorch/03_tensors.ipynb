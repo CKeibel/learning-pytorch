{
  "nbformat": 4,
  "nbformat_minor": 0,
  "metadata": {
    "colab": {
      "provenance": [],
      "authorship_tag": "ABX9TyMVDzuouwNlPeov6N2PZJj1",
      "include_colab_link": true
    },
    "kernelspec": {
      "name": "python3",
      "display_name": "Python 3"
    },
    "language_info": {
      "name": "python"
    }
  },
  "cells": [
    {
      "cell_type": "markdown",
      "metadata": {
        "id": "view-in-github",
        "colab_type": "text"
      },
      "source": [
        "<a href=\"https://colab.research.google.com/github/CKeibel/learning-pytorch/blob/main/DL-with-Pytorch/03_tensors.ipynb\" target=\"_parent\"><img src=\"https://colab.research.google.com/assets/colab-badge.svg\" alt=\"Open In Colab\"/></a>"
      ]
    },
    {
      "cell_type": "code",
      "execution_count": 1,
      "metadata": {
        "colab": {
          "base_uri": "https://localhost:8080/",
          "height": 36
        },
        "id": "0j05lyZAbOPE",
        "outputId": "b61cc939-7bb7-4125-f379-fe1b1319665d"
      },
      "outputs": [
        {
          "output_type": "execute_result",
          "data": {
            "text/plain": [
              "'1.13.1+cu116'"
            ],
            "application/vnd.google.colaboratory.intrinsic+json": {
              "type": "string"
            }
          },
          "metadata": {},
          "execution_count": 1
        }
      ],
      "source": [
        "import torch\n",
        "torch.__version__"
      ]
    },
    {
      "cell_type": "markdown",
      "source": [
        "# Basics"
      ],
      "metadata": {
        "id": "1LgiE-uH6S5i"
      }
    },
    {
      "cell_type": "code",
      "source": [
        "a = torch.ones(3)\n",
        "a"
      ],
      "metadata": {
        "colab": {
          "base_uri": "https://localhost:8080/"
        },
        "id": "N250PxbmbVv1",
        "outputId": "8e06aa76-04ab-4969-96c2-3ad14b9a73f6"
      },
      "execution_count": 2,
      "outputs": [
        {
          "output_type": "execute_result",
          "data": {
            "text/plain": [
              "tensor([1., 1., 1.])"
            ]
          },
          "metadata": {},
          "execution_count": 2
        }
      ]
    },
    {
      "cell_type": "code",
      "source": [
        "a[2] = 2.0\n",
        "a"
      ],
      "metadata": {
        "colab": {
          "base_uri": "https://localhost:8080/"
        },
        "id": "e4E2NoBhcyqb",
        "outputId": "035196fa-5fc5-4236-847e-10a99262b375"
      },
      "execution_count": 3,
      "outputs": [
        {
          "output_type": "execute_result",
          "data": {
            "text/plain": [
              "tensor([1., 1., 2.])"
            ]
          },
          "metadata": {},
          "execution_count": 3
        }
      ]
    },
    {
      "cell_type": "code",
      "source": [
        "type(a)"
      ],
      "metadata": {
        "colab": {
          "base_uri": "https://localhost:8080/"
        },
        "id": "0j2SRoswc85k",
        "outputId": "1f1a5cfe-9e28-4693-fb26-14161b5cafd2"
      },
      "execution_count": 4,
      "outputs": [
        {
          "output_type": "execute_result",
          "data": {
            "text/plain": [
              "torch.Tensor"
            ]
          },
          "metadata": {},
          "execution_count": 4
        }
      ]
    },
    {
      "cell_type": "code",
      "source": [
        "points = torch.tensor([1.0, 5.3, 6.1, 2.1])\n",
        "points"
      ],
      "metadata": {
        "colab": {
          "base_uri": "https://localhost:8080/"
        },
        "id": "_Am6IkJzc_U5",
        "outputId": "668b5e30-2949-4ba0-ef4f-2b3cfb3048cd"
      },
      "execution_count": 5,
      "outputs": [
        {
          "output_type": "execute_result",
          "data": {
            "text/plain": [
              "tensor([1.0000, 5.3000, 6.1000, 2.1000])"
            ]
          },
          "metadata": {},
          "execution_count": 5
        }
      ]
    },
    {
      "cell_type": "code",
      "source": [
        "points[2]"
      ],
      "metadata": {
        "colab": {
          "base_uri": "https://localhost:8080/"
        },
        "id": "jJClvK0DenqW",
        "outputId": "323f8730-8c64-41fc-a7d4-a6433dafa73c"
      },
      "execution_count": 6,
      "outputs": [
        {
          "output_type": "execute_result",
          "data": {
            "text/plain": [
              "tensor(6.1000)"
            ]
          },
          "metadata": {},
          "execution_count": 6
        }
      ]
    },
    {
      "cell_type": "code",
      "source": [
        "float(points[2])"
      ],
      "metadata": {
        "colab": {
          "base_uri": "https://localhost:8080/"
        },
        "id": "OsM-8ZederG1",
        "outputId": "a44562ed-34ba-4617-a4db-03086194d329"
      },
      "execution_count": 7,
      "outputs": [
        {
          "output_type": "execute_result",
          "data": {
            "text/plain": [
              "6.099999904632568"
            ]
          },
          "metadata": {},
          "execution_count": 7
        }
      ]
    },
    {
      "cell_type": "code",
      "source": [
        "points = torch.tensor([[4.0, 1.0], [5.0, 3.0], [2.0, 1.0]])\n",
        "points"
      ],
      "metadata": {
        "colab": {
          "base_uri": "https://localhost:8080/"
        },
        "id": "7EfhCWZPewqB",
        "outputId": "aa9b94bb-6969-4f6e-fb46-7a5446d886c2"
      },
      "execution_count": 8,
      "outputs": [
        {
          "output_type": "execute_result",
          "data": {
            "text/plain": [
              "tensor([[4., 1.],\n",
              "        [5., 3.],\n",
              "        [2., 1.]])"
            ]
          },
          "metadata": {},
          "execution_count": 8
        }
      ]
    },
    {
      "cell_type": "code",
      "source": [
        "float(points[1,0])"
      ],
      "metadata": {
        "colab": {
          "base_uri": "https://localhost:8080/"
        },
        "id": "ElrcMkgZe52B",
        "outputId": "f72c6c14-f672-434e-b084-a48fa79f36db"
      },
      "execution_count": 9,
      "outputs": [
        {
          "output_type": "execute_result",
          "data": {
            "text/plain": [
              "5.0"
            ]
          },
          "metadata": {},
          "execution_count": 9
        }
      ]
    },
    {
      "cell_type": "code",
      "source": [
        "points.shape"
      ],
      "metadata": {
        "colab": {
          "base_uri": "https://localhost:8080/"
        },
        "id": "CvUTDQpIfH0N",
        "outputId": "c1cf63d0-05ef-4e46-d474-ef2314eec408"
      },
      "execution_count": 10,
      "outputs": [
        {
          "output_type": "execute_result",
          "data": {
            "text/plain": [
              "torch.Size([3, 2])"
            ]
          },
          "metadata": {},
          "execution_count": 10
        }
      ]
    },
    {
      "cell_type": "code",
      "source": [
        "points[None]"
      ],
      "metadata": {
        "id": "K0L0N6wcfd9G",
        "colab": {
          "base_uri": "https://localhost:8080/"
        },
        "outputId": "40075d43-e711-4d0a-d6ad-975d51af14e6"
      },
      "execution_count": 11,
      "outputs": [
        {
          "output_type": "execute_result",
          "data": {
            "text/plain": [
              "tensor([[[4., 1.],\n",
              "         [5., 3.],\n",
              "         [2., 1.]]])"
            ]
          },
          "metadata": {},
          "execution_count": 11
        }
      ]
    },
    {
      "cell_type": "code",
      "source": [
        "points[0, :]"
      ],
      "metadata": {
        "colab": {
          "base_uri": "https://localhost:8080/"
        },
        "id": "1dlNTT5B5CC4",
        "outputId": "fcc8ab64-da7c-4c69-d303-7bf2053ae5bf"
      },
      "execution_count": 12,
      "outputs": [
        {
          "output_type": "execute_result",
          "data": {
            "text/plain": [
              "tensor([4., 1.])"
            ]
          },
          "metadata": {},
          "execution_count": 12
        }
      ]
    },
    {
      "cell_type": "code",
      "source": [
        "points[:, 1]"
      ],
      "metadata": {
        "colab": {
          "base_uri": "https://localhost:8080/"
        },
        "id": "YoEWEVVa5Voi",
        "outputId": "c1d71a5f-7402-4201-8bee-5ab0160d5bbd"
      },
      "execution_count": 13,
      "outputs": [
        {
          "output_type": "execute_result",
          "data": {
            "text/plain": [
              "tensor([1., 3., 1.])"
            ]
          },
          "metadata": {},
          "execution_count": 13
        }
      ]
    },
    {
      "cell_type": "markdown",
      "source": [
        "# Named tensors"
      ],
      "metadata": {
        "id": "hRkBN8Ec6LgH"
      }
    },
    {
      "cell_type": "code",
      "source": [
        "img_t = torch.randn(3, 5, 5) # [channel, height, width]\n",
        "img_t"
      ],
      "metadata": {
        "id": "-cwrW3Sl6Puq",
        "colab": {
          "base_uri": "https://localhost:8080/"
        },
        "outputId": "60aeb851-9b13-4b06-ce1c-9cce120de0e0"
      },
      "execution_count": 14,
      "outputs": [
        {
          "output_type": "execute_result",
          "data": {
            "text/plain": [
              "tensor([[[ 0.2986,  0.6901,  0.6581, -0.5485,  0.0120],\n",
              "         [-0.4705, -0.6048,  0.4330, -1.4849, -1.4109],\n",
              "         [-0.6267, -0.5903, -0.4306,  0.0269,  0.2063],\n",
              "         [ 0.7261,  0.2356, -1.5816, -0.8611,  1.6469],\n",
              "         [ 0.8428,  1.8283, -1.2983,  0.1376,  0.6780]],\n",
              "\n",
              "        [[-0.4914, -0.6061,  1.5786,  1.4629, -0.8047],\n",
              "         [-1.6507,  0.3012, -0.4034, -0.2327,  0.4497],\n",
              "         [-0.9027,  0.3064, -1.1366, -1.1017, -1.8757],\n",
              "         [ 0.0555, -0.6548,  0.7014,  2.4754, -0.3709],\n",
              "         [-0.2736, -0.6001,  0.3001,  0.2231,  2.6672]],\n",
              "\n",
              "        [[-0.7918, -0.4434, -0.6045, -1.5880, -0.5124],\n",
              "         [ 0.7124,  0.2470,  0.4737, -0.5422, -1.0675],\n",
              "         [-1.3350,  0.0837, -1.1621,  1.2180,  0.6600],\n",
              "         [-1.0075,  0.8062,  1.6333,  0.5440,  0.8237],\n",
              "         [-0.9675, -1.7130,  0.0551, -0.0418,  0.9620]]])"
            ]
          },
          "metadata": {},
          "execution_count": 14
        }
      ]
    },
    {
      "cell_type": "code",
      "source": [
        "batch_t = torch.randn(2, 3, 5, 5) # [batch. channel, height, width]\n",
        "batch_t"
      ],
      "metadata": {
        "colab": {
          "base_uri": "https://localhost:8080/"
        },
        "id": "PqpT3rhQ0p_0",
        "outputId": "1738050f-0140-4fde-f4d1-da7357f31d29"
      },
      "execution_count": 16,
      "outputs": [
        {
          "output_type": "execute_result",
          "data": {
            "text/plain": [
              "tensor([[[[-1.9469,  0.7931, -1.1709,  1.0694, -1.4576],\n",
              "          [ 1.0030, -1.5902, -0.2871, -1.0593,  0.4599],\n",
              "          [ 0.6239, -0.8770, -0.9898,  0.6310,  0.9836],\n",
              "          [-0.7525, -0.9906,  1.2721, -0.1450, -0.0618],\n",
              "          [-0.0065, -0.7710,  1.8751,  0.6162,  0.5823]],\n",
              "\n",
              "         [[ 1.2940, -0.1317,  0.0495, -1.4747, -0.3654],\n",
              "          [-0.3614, -0.2519,  2.2379, -0.4737, -0.9531],\n",
              "          [ 0.8160, -0.2434, -0.8194, -1.1595,  1.4721],\n",
              "          [ 0.1913, -2.8759,  1.4002, -0.5701, -2.3609],\n",
              "          [-1.3437, -0.1170,  0.8208, -0.8975, -1.1624]],\n",
              "\n",
              "         [[-0.7954, -0.7075, -1.2352, -0.3197, -0.3681],\n",
              "          [-0.3856,  0.4685, -0.4719, -0.0118, -0.2042],\n",
              "          [-0.6285, -0.9698,  1.3241, -0.6002,  2.1224],\n",
              "          [-0.5077,  1.7577,  0.3886, -0.2151, -0.2215],\n",
              "          [-0.7695,  0.2605,  0.2111,  0.6108, -0.2661]]],\n",
              "\n",
              "\n",
              "        [[[-1.3255, -1.0956,  0.5481,  0.0812, -1.9539],\n",
              "          [-0.8614,  0.0800,  0.4797, -2.3597,  1.3705],\n",
              "          [ 0.0676, -1.0178,  0.8000,  2.1774,  1.6967],\n",
              "          [ 0.1133,  1.3975, -0.4833,  0.3639, -1.1744],\n",
              "          [ 2.2854, -1.9928, -0.6362, -0.3854, -1.6975]],\n",
              "\n",
              "         [[-0.9600,  0.6146, -0.2605, -2.4148, -0.3310],\n",
              "          [ 0.2955, -1.5833,  1.2264,  0.0817,  1.5000],\n",
              "          [ 0.3923,  1.7900, -0.5783, -1.2183,  0.5308],\n",
              "          [-1.0119, -0.1576,  0.0177, -0.3944,  0.4317],\n",
              "          [ 0.7862,  0.6024,  0.5436,  1.1668,  0.8951]],\n",
              "\n",
              "         [[ 0.7321,  0.1212,  0.0732,  0.1856,  0.3705],\n",
              "          [ 0.8689, -2.3637, -1.2758, -1.5360,  0.2731],\n",
              "          [ 0.7186,  1.5108, -0.0303,  1.3027, -1.3421],\n",
              "          [-0.1290, -0.8658,  0.0598, -0.9159, -1.2592],\n",
              "          [-0.1578, -1.3320, -1.8100,  1.0038, -1.0064]]]])"
            ]
          },
          "metadata": {},
          "execution_count": 16
        }
      ]
    },
    {
      "cell_type": "code",
      "source": [
        "naive_mean = img_t.mean(-3) # color channel always in -3 dim \n",
        "naive_mean"
      ],
      "metadata": {
        "colab": {
          "base_uri": "https://localhost:8080/"
        },
        "id": "BqxIpEjb1r7K",
        "outputId": "5116d5d1-bb22-4692-8c87-2ce425f719fc"
      },
      "execution_count": 20,
      "outputs": [
        {
          "output_type": "execute_result",
          "data": {
            "text/plain": [
              "tensor([[-0.3282, -0.1198,  0.5441, -0.2245, -0.4350],\n",
              "        [-0.4696, -0.0189,  0.1678, -0.7533, -0.6762],\n",
              "        [-0.9548, -0.0667, -0.9098,  0.0477, -0.3365],\n",
              "        [-0.0753,  0.1290,  0.2510,  0.7194,  0.6999],\n",
              "        [-0.1328, -0.1616, -0.3144,  0.1063,  1.4357]])"
            ]
          },
          "metadata": {},
          "execution_count": 20
        }
      ]
    },
    {
      "cell_type": "code",
      "source": [
        "naive_mean_batch = batch_t.mean(-3)\n",
        "naive_mean_batch"
      ],
      "metadata": {
        "colab": {
          "base_uri": "https://localhost:8080/"
        },
        "id": "LxYGUCJh2tXb",
        "outputId": "46f5a01e-6cfe-4ce9-e66f-db8cc5fba288"
      },
      "execution_count": 22,
      "outputs": [
        {
          "output_type": "execute_result",
          "data": {
            "text/plain": [
              "tensor([[[-0.4828, -0.0154, -0.7856, -0.2417, -0.7304],\n",
              "         [ 0.0853, -0.4579,  0.4929, -0.5149, -0.2325],\n",
              "         [ 0.2704, -0.6967, -0.1617, -0.3763,  1.5260],\n",
              "         [-0.3563, -0.7029,  1.0203, -0.3100, -0.8814],\n",
              "         [-0.7066, -0.2092,  0.9690,  0.1098, -0.2821]],\n",
              "\n",
              "        [[-0.5178, -0.1200,  0.1202, -0.7160, -0.6381],\n",
              "         [ 0.1010, -1.2890,  0.1434, -1.2713,  1.0479],\n",
              "         [ 0.3928,  0.7610,  0.0638,  0.7540,  0.2951],\n",
              "         [-0.3425,  0.1247, -0.1352, -0.3155, -0.6673],\n",
              "         [ 0.9713, -0.9075, -0.6342,  0.5951, -0.6029]]])"
            ]
          },
          "metadata": {},
          "execution_count": 22
        }
      ]
    },
    {
      "cell_type": "code",
      "source": [
        "img_named = img_t.refine_names(..., 'channels', \"rows\", \"columns\")\n",
        "print(img_named.names)\n",
        "print(img_named)"
      ],
      "metadata": {
        "colab": {
          "base_uri": "https://localhost:8080/"
        },
        "id": "p0wQ7-wo29z_",
        "outputId": "94454654-017e-4e01-99e3-313b471f20ae"
      },
      "execution_count": 23,
      "outputs": [
        {
          "output_type": "stream",
          "name": "stdout",
          "text": [
            "('channels', 'rows', 'columns')\n",
            "tensor([[[ 0.2986,  0.6901,  0.6581, -0.5485,  0.0120],\n",
            "         [-0.4705, -0.6048,  0.4330, -1.4849, -1.4109],\n",
            "         [-0.6267, -0.5903, -0.4306,  0.0269,  0.2063],\n",
            "         [ 0.7261,  0.2356, -1.5816, -0.8611,  1.6469],\n",
            "         [ 0.8428,  1.8283, -1.2983,  0.1376,  0.6780]],\n",
            "\n",
            "        [[-0.4914, -0.6061,  1.5786,  1.4629, -0.8047],\n",
            "         [-1.6507,  0.3012, -0.4034, -0.2327,  0.4497],\n",
            "         [-0.9027,  0.3064, -1.1366, -1.1017, -1.8757],\n",
            "         [ 0.0555, -0.6548,  0.7014,  2.4754, -0.3709],\n",
            "         [-0.2736, -0.6001,  0.3001,  0.2231,  2.6672]],\n",
            "\n",
            "        [[-0.7918, -0.4434, -0.6045, -1.5880, -0.5124],\n",
            "         [ 0.7124,  0.2470,  0.4737, -0.5422, -1.0675],\n",
            "         [-1.3350,  0.0837, -1.1621,  1.2180,  0.6600],\n",
            "         [-1.0075,  0.8062,  1.6333,  0.5440,  0.8237],\n",
            "         [-0.9675, -1.7130,  0.0551, -0.0418,  0.9620]]],\n",
            "       names=('channels', 'rows', 'columns'))\n"
          ]
        },
        {
          "output_type": "stream",
          "name": "stderr",
          "text": [
            "/usr/local/lib/python3.9/dist-packages/torch/_tensor.py:1106: UserWarning: Named tensors and all their associated APIs are an experimental feature and subject to change. Please do not use them for anything important until they are released as stable. (Triggered internally at ../c10/core/TensorImpl.h:1758.)\n",
            "  return super(Tensor, self).refine_names(names)\n"
          ]
        }
      ]
    },
    {
      "cell_type": "code",
      "source": [
        "batch_named = batch_t.refine_names(..., \"batch\", \"channel\", \"row\", \"column\")\n",
        "print(batch_named.names)\n",
        "print(batch_named)"
      ],
      "metadata": {
        "colab": {
          "base_uri": "https://localhost:8080/"
        },
        "id": "iUb_Jeti5FwP",
        "outputId": "db68fc17-250c-44d0-e7e8-b0b54f234ac3"
      },
      "execution_count": 24,
      "outputs": [
        {
          "output_type": "stream",
          "name": "stdout",
          "text": [
            "('batch', 'channel', 'row', 'column')\n",
            "tensor([[[[-1.9469,  0.7931, -1.1709,  1.0694, -1.4576],\n",
            "          [ 1.0030, -1.5902, -0.2871, -1.0593,  0.4599],\n",
            "          [ 0.6239, -0.8770, -0.9898,  0.6310,  0.9836],\n",
            "          [-0.7525, -0.9906,  1.2721, -0.1450, -0.0618],\n",
            "          [-0.0065, -0.7710,  1.8751,  0.6162,  0.5823]],\n",
            "\n",
            "         [[ 1.2940, -0.1317,  0.0495, -1.4747, -0.3654],\n",
            "          [-0.3614, -0.2519,  2.2379, -0.4737, -0.9531],\n",
            "          [ 0.8160, -0.2434, -0.8194, -1.1595,  1.4721],\n",
            "          [ 0.1913, -2.8759,  1.4002, -0.5701, -2.3609],\n",
            "          [-1.3437, -0.1170,  0.8208, -0.8975, -1.1624]],\n",
            "\n",
            "         [[-0.7954, -0.7075, -1.2352, -0.3197, -0.3681],\n",
            "          [-0.3856,  0.4685, -0.4719, -0.0118, -0.2042],\n",
            "          [-0.6285, -0.9698,  1.3241, -0.6002,  2.1224],\n",
            "          [-0.5077,  1.7577,  0.3886, -0.2151, -0.2215],\n",
            "          [-0.7695,  0.2605,  0.2111,  0.6108, -0.2661]]],\n",
            "\n",
            "\n",
            "        [[[-1.3255, -1.0956,  0.5481,  0.0812, -1.9539],\n",
            "          [-0.8614,  0.0800,  0.4797, -2.3597,  1.3705],\n",
            "          [ 0.0676, -1.0178,  0.8000,  2.1774,  1.6967],\n",
            "          [ 0.1133,  1.3975, -0.4833,  0.3639, -1.1744],\n",
            "          [ 2.2854, -1.9928, -0.6362, -0.3854, -1.6975]],\n",
            "\n",
            "         [[-0.9600,  0.6146, -0.2605, -2.4148, -0.3310],\n",
            "          [ 0.2955, -1.5833,  1.2264,  0.0817,  1.5000],\n",
            "          [ 0.3923,  1.7900, -0.5783, -1.2183,  0.5308],\n",
            "          [-1.0119, -0.1576,  0.0177, -0.3944,  0.4317],\n",
            "          [ 0.7862,  0.6024,  0.5436,  1.1668,  0.8951]],\n",
            "\n",
            "         [[ 0.7321,  0.1212,  0.0732,  0.1856,  0.3705],\n",
            "          [ 0.8689, -2.3637, -1.2758, -1.5360,  0.2731],\n",
            "          [ 0.7186,  1.5108, -0.0303,  1.3027, -1.3421],\n",
            "          [-0.1290, -0.8658,  0.0598, -0.9159, -1.2592],\n",
            "          [-0.1578, -1.3320, -1.8100,  1.0038, -1.0064]]]],\n",
            "       names=('batch', 'channel', 'row', 'column'))\n"
          ]
        }
      ]
    },
    {
      "cell_type": "code",
      "source": [
        "a = torch.ones(3, 2)\n",
        "a_t = torch.transpose(a, 0, 1)\n",
        "a, a_t"
      ],
      "metadata": {
        "colab": {
          "base_uri": "https://localhost:8080/"
        },
        "id": "9evAHogh5ZIj",
        "outputId": "3e6489e6-f23c-48b7-ecff-7092524c9d55"
      },
      "execution_count": 26,
      "outputs": [
        {
          "output_type": "execute_result",
          "data": {
            "text/plain": [
              "(tensor([[1., 1.],\n",
              "         [1., 1.],\n",
              "         [1., 1.]]), tensor([[1., 1., 1.],\n",
              "         [1., 1., 1.]]))"
            ]
          },
          "metadata": {},
          "execution_count": 26
        }
      ]
    },
    {
      "cell_type": "code",
      "source": [
        "b = torch.tensor([[1, 2, 3], [4, 5, 6]])\n",
        "b"
      ],
      "metadata": {
        "colab": {
          "base_uri": "https://localhost:8080/"
        },
        "id": "wVh1YuQB6SID",
        "outputId": "634ddea9-8bb5-47f5-e4df-3bcea61dd73f"
      },
      "execution_count": 31,
      "outputs": [
        {
          "output_type": "execute_result",
          "data": {
            "text/plain": [
              "tensor([[1, 2, 3],\n",
              "        [4, 5, 6]])"
            ]
          },
          "metadata": {},
          "execution_count": 31
        }
      ]
    },
    {
      "cell_type": "code",
      "source": [
        "torch.transpose(b, 0, 1)"
      ],
      "metadata": {
        "colab": {
          "base_uri": "https://localhost:8080/"
        },
        "id": "_8Vp4W4U63TR",
        "outputId": "98920f52-2542-4b21-f07c-a6e481477b25"
      },
      "execution_count": 32,
      "outputs": [
        {
          "output_type": "execute_result",
          "data": {
            "text/plain": [
              "tensor([[1, 4],\n",
              "        [2, 5],\n",
              "        [3, 6]])"
            ]
          },
          "metadata": {},
          "execution_count": 32
        }
      ]
    },
    {
      "cell_type": "code",
      "source": [
        "torch.transpose(b, 1, 0)"
      ],
      "metadata": {
        "colab": {
          "base_uri": "https://localhost:8080/"
        },
        "id": "9OSDYak167Xb",
        "outputId": "d1a29896-54ab-42ea-9ceb-fb9819cce0d1"
      },
      "execution_count": 33,
      "outputs": [
        {
          "output_type": "execute_result",
          "data": {
            "text/plain": [
              "tensor([[1, 4],\n",
              "        [2, 5],\n",
              "        [3, 6]])"
            ]
          },
          "metadata": {},
          "execution_count": 33
        }
      ]
    },
    {
      "cell_type": "code",
      "source": [
        "b.t()\n",
        "b"
      ],
      "metadata": {
        "colab": {
          "base_uri": "https://localhost:8080/"
        },
        "id": "8XTAU_q86-mq",
        "outputId": "9231a9b2-9534-4a9b-8883-8d383b5f3659"
      },
      "execution_count": 34,
      "outputs": [
        {
          "output_type": "execute_result",
          "data": {
            "text/plain": [
              "tensor([[1, 2, 3],\n",
              "        [4, 5, 6]])"
            ]
          },
          "metadata": {},
          "execution_count": 34
        }
      ]
    },
    {
      "cell_type": "code",
      "source": [
        "b.t()"
      ],
      "metadata": {
        "colab": {
          "base_uri": "https://localhost:8080/"
        },
        "id": "jbUh_DXY7iRk",
        "outputId": "2996ed48-93a5-4de8-d5f1-c6b51bcfad70"
      },
      "execution_count": 35,
      "outputs": [
        {
          "output_type": "execute_result",
          "data": {
            "text/plain": [
              "tensor([[1, 4],\n",
              "        [2, 5],\n",
              "        [3, 6]])"
            ]
          },
          "metadata": {},
          "execution_count": 35
        }
      ]
    }
  ]
}
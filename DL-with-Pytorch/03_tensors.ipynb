{
  "nbformat": 4,
  "nbformat_minor": 0,
  "metadata": {
    "colab": {
      "provenance": [],
      "authorship_tag": "ABX9TyNR2dDl34jyhfbLuVeSFqKS"
    },
    "kernelspec": {
      "name": "python3",
      "display_name": "Python 3"
    },
    "language_info": {
      "name": "python"
    }
  },
  "cells": [
    {
      "cell_type": "code",
      "execution_count": 1,
      "metadata": {
        "colab": {
          "base_uri": "https://localhost:8080/",
          "height": 36
        },
        "id": "0j05lyZAbOPE",
        "outputId": "63303b68-e2ee-4e9b-f10f-ebe9d6142709"
      },
      "outputs": [
        {
          "output_type": "execute_result",
          "data": {
            "text/plain": [
              "'1.13.1+cu116'"
            ],
            "application/vnd.google.colaboratory.intrinsic+json": {
              "type": "string"
            }
          },
          "metadata": {},
          "execution_count": 1
        }
      ],
      "source": [
        "import torch\n",
        "torch.__version__"
      ]
    },
    {
      "cell_type": "markdown",
      "source": [
        "# Basics"
      ],
      "metadata": {
        "id": "1LgiE-uH6S5i"
      }
    },
    {
      "cell_type": "code",
      "source": [
        "a = torch.ones(3)\n",
        "a"
      ],
      "metadata": {
        "colab": {
          "base_uri": "https://localhost:8080/"
        },
        "id": "N250PxbmbVv1",
        "outputId": "e0cd0365-8b2f-4fa3-e29f-39c2c509d6b2"
      },
      "execution_count": 2,
      "outputs": [
        {
          "output_type": "execute_result",
          "data": {
            "text/plain": [
              "tensor([1., 1., 1.])"
            ]
          },
          "metadata": {},
          "execution_count": 2
        }
      ]
    },
    {
      "cell_type": "code",
      "source": [
        "a[2] = 2.0\n",
        "a"
      ],
      "metadata": {
        "colab": {
          "base_uri": "https://localhost:8080/"
        },
        "id": "e4E2NoBhcyqb",
        "outputId": "60309a77-2c23-4778-e8ec-6e4f8378db42"
      },
      "execution_count": 3,
      "outputs": [
        {
          "output_type": "execute_result",
          "data": {
            "text/plain": [
              "tensor([1., 1., 2.])"
            ]
          },
          "metadata": {},
          "execution_count": 3
        }
      ]
    },
    {
      "cell_type": "code",
      "source": [
        "type(a)"
      ],
      "metadata": {
        "colab": {
          "base_uri": "https://localhost:8080/"
        },
        "id": "0j2SRoswc85k",
        "outputId": "b255303a-3c7d-49e4-a0df-239e1077d3f1"
      },
      "execution_count": 4,
      "outputs": [
        {
          "output_type": "execute_result",
          "data": {
            "text/plain": [
              "torch.Tensor"
            ]
          },
          "metadata": {},
          "execution_count": 4
        }
      ]
    },
    {
      "cell_type": "code",
      "source": [
        "points = torch.tensor([1.0, 5.3, 6.1, 2.1])\n",
        "points"
      ],
      "metadata": {
        "colab": {
          "base_uri": "https://localhost:8080/"
        },
        "id": "_Am6IkJzc_U5",
        "outputId": "8de9db3e-d8d8-4d56-c2f2-9d38018b0f79"
      },
      "execution_count": 5,
      "outputs": [
        {
          "output_type": "execute_result",
          "data": {
            "text/plain": [
              "tensor([1.0000, 5.3000, 6.1000, 2.1000])"
            ]
          },
          "metadata": {},
          "execution_count": 5
        }
      ]
    },
    {
      "cell_type": "code",
      "source": [
        "points[2]"
      ],
      "metadata": {
        "colab": {
          "base_uri": "https://localhost:8080/"
        },
        "id": "jJClvK0DenqW",
        "outputId": "c0a33f56-af30-4104-a905-f6a5549d8e69"
      },
      "execution_count": 6,
      "outputs": [
        {
          "output_type": "execute_result",
          "data": {
            "text/plain": [
              "tensor(6.1000)"
            ]
          },
          "metadata": {},
          "execution_count": 6
        }
      ]
    },
    {
      "cell_type": "code",
      "source": [
        "float(points[2])"
      ],
      "metadata": {
        "colab": {
          "base_uri": "https://localhost:8080/"
        },
        "id": "OsM-8ZederG1",
        "outputId": "6554f997-ac7e-431b-9379-5ef266393058"
      },
      "execution_count": 7,
      "outputs": [
        {
          "output_type": "execute_result",
          "data": {
            "text/plain": [
              "6.099999904632568"
            ]
          },
          "metadata": {},
          "execution_count": 7
        }
      ]
    },
    {
      "cell_type": "code",
      "source": [
        "points = torch.tensor([[4.0, 1.0], [5.0, 3.0], [2.0, 1.0]])\n",
        "points"
      ],
      "metadata": {
        "colab": {
          "base_uri": "https://localhost:8080/"
        },
        "id": "7EfhCWZPewqB",
        "outputId": "27c2b948-b1fa-4337-c62c-a43e16af9305"
      },
      "execution_count": 8,
      "outputs": [
        {
          "output_type": "execute_result",
          "data": {
            "text/plain": [
              "tensor([[4., 1.],\n",
              "        [5., 3.],\n",
              "        [2., 1.]])"
            ]
          },
          "metadata": {},
          "execution_count": 8
        }
      ]
    },
    {
      "cell_type": "code",
      "source": [
        "float(points[1,0])"
      ],
      "metadata": {
        "colab": {
          "base_uri": "https://localhost:8080/"
        },
        "id": "ElrcMkgZe52B",
        "outputId": "d41e2d9a-41eb-4730-e902-408d40c00702"
      },
      "execution_count": 9,
      "outputs": [
        {
          "output_type": "execute_result",
          "data": {
            "text/plain": [
              "5.0"
            ]
          },
          "metadata": {},
          "execution_count": 9
        }
      ]
    },
    {
      "cell_type": "code",
      "source": [
        "points.shape"
      ],
      "metadata": {
        "colab": {
          "base_uri": "https://localhost:8080/"
        },
        "id": "CvUTDQpIfH0N",
        "outputId": "328e6b19-a5ec-40cf-aa8f-0570221c8b52"
      },
      "execution_count": 10,
      "outputs": [
        {
          "output_type": "execute_result",
          "data": {
            "text/plain": [
              "torch.Size([3, 2])"
            ]
          },
          "metadata": {},
          "execution_count": 10
        }
      ]
    },
    {
      "cell_type": "code",
      "source": [
        "points[None]"
      ],
      "metadata": {
        "id": "K0L0N6wcfd9G",
        "colab": {
          "base_uri": "https://localhost:8080/"
        },
        "outputId": "3179ae6c-0f32-4c38-941c-c6366d002827"
      },
      "execution_count": 11,
      "outputs": [
        {
          "output_type": "execute_result",
          "data": {
            "text/plain": [
              "tensor([[[4., 1.],\n",
              "         [5., 3.],\n",
              "         [2., 1.]]])"
            ]
          },
          "metadata": {},
          "execution_count": 11
        }
      ]
    },
    {
      "cell_type": "code",
      "source": [
        "points[0, :]"
      ],
      "metadata": {
        "colab": {
          "base_uri": "https://localhost:8080/"
        },
        "id": "1dlNTT5B5CC4",
        "outputId": "cca859de-bd1d-4ec5-9a28-ebbee3ee18b1"
      },
      "execution_count": 12,
      "outputs": [
        {
          "output_type": "execute_result",
          "data": {
            "text/plain": [
              "tensor([4., 1.])"
            ]
          },
          "metadata": {},
          "execution_count": 12
        }
      ]
    },
    {
      "cell_type": "code",
      "source": [
        "points[:, 1]"
      ],
      "metadata": {
        "colab": {
          "base_uri": "https://localhost:8080/"
        },
        "id": "YoEWEVVa5Voi",
        "outputId": "63b8e78b-e5ab-41c6-db52-9ff6bb614809"
      },
      "execution_count": 13,
      "outputs": [
        {
          "output_type": "execute_result",
          "data": {
            "text/plain": [
              "tensor([1., 3., 1.])"
            ]
          },
          "metadata": {},
          "execution_count": 13
        }
      ]
    },
    {
      "cell_type": "markdown",
      "source": [
        "# Named tensors"
      ],
      "metadata": {
        "id": "hRkBN8Ec6LgH"
      }
    },
    {
      "cell_type": "code",
      "source": [
        "img_t = torch.randn(3, 5, 5) # [channel, height, width]\n",
        "img_t"
      ],
      "metadata": {
        "id": "-cwrW3Sl6Puq",
        "colab": {
          "base_uri": "https://localhost:8080/"
        },
        "outputId": "5fe4b680-b32b-4d16-c66c-4adbc57782c8"
      },
      "execution_count": 14,
      "outputs": [
        {
          "output_type": "execute_result",
          "data": {
            "text/plain": [
              "tensor([[[-1.0714,  0.7227, -0.5737, -1.2088, -2.3827],\n",
              "         [ 0.7370,  0.7265, -0.0058,  0.5456, -1.0798],\n",
              "         [-0.9563,  0.4465, -0.4841, -1.4084,  1.2396],\n",
              "         [ 0.1648,  0.7255, -1.0176, -0.3961,  1.2667],\n",
              "         [-0.4282,  1.8189, -1.9494,  0.7315,  0.2276]],\n",
              "\n",
              "        [[-1.4434,  2.0784,  0.2849, -0.4295,  0.3663],\n",
              "         [ 0.1256, -0.3490,  0.2076,  0.1503, -1.2166],\n",
              "         [-0.8474, -0.2729, -0.9191,  0.1632, -1.7498],\n",
              "         [ 0.5047,  0.5355,  0.3769,  0.9339, -1.5844],\n",
              "         [ 0.0509, -1.5843, -0.2231, -0.1557, -1.2971]],\n",
              "\n",
              "        [[ 0.8181,  0.3747,  0.3752,  0.1938,  0.9288],\n",
              "         [ 1.2059, -0.4715, -0.2159, -1.4894,  0.7375],\n",
              "         [ 0.2599, -0.0332, -0.0941, -0.6221, -1.7500],\n",
              "         [-0.7021, -1.5647, -0.3929,  1.0325,  0.2003],\n",
              "         [ 0.1372, -0.7587,  1.2389, -0.3729, -0.6160]]])"
            ]
          },
          "metadata": {},
          "execution_count": 14
        }
      ]
    },
    {
      "cell_type": "code",
      "source": [
        "batch_t = torch.randn(2, 3, 5, 5) # [batch. channel, height, width]\n",
        "batch_t"
      ],
      "metadata": {
        "colab": {
          "base_uri": "https://localhost:8080/"
        },
        "id": "PqpT3rhQ0p_0",
        "outputId": "8d97817a-db72-4a0b-9658-07cbb9835f57"
      },
      "execution_count": 15,
      "outputs": [
        {
          "output_type": "execute_result",
          "data": {
            "text/plain": [
              "tensor([[[[ 0.6844,  1.0396,  1.2126,  0.4277, -0.4749],\n",
              "          [-1.0605, -0.2526, -0.2784,  1.6753, -1.7571],\n",
              "          [-0.3885, -0.1276,  0.5997, -0.9648,  1.0531],\n",
              "          [ 0.7124,  0.0458, -2.1058,  0.6450, -0.0145],\n",
              "          [-1.7360,  1.5836, -0.0319, -2.2871,  0.7897]],\n",
              "\n",
              "         [[ 1.8229, -0.1632, -0.5728,  0.5831,  1.3264],\n",
              "          [-0.8084,  1.2089, -0.5431, -0.0116, -0.1253],\n",
              "          [ 1.1339, -0.5829, -0.6747,  0.4423,  0.1714],\n",
              "          [-1.2242,  1.2151,  0.9279,  2.2232,  1.0453],\n",
              "          [ 0.7949,  0.3410,  0.1420, -1.4725, -1.3989]],\n",
              "\n",
              "         [[-0.6060,  1.1249, -0.2220, -0.4567, -0.5230],\n",
              "          [-0.7625,  0.5823,  1.3648,  0.2413,  0.3181],\n",
              "          [-0.1713, -0.7775,  0.9715,  1.3315, -1.3996],\n",
              "          [-1.7100, -0.5694,  0.8481, -1.0999,  0.3336],\n",
              "          [-1.5439, -0.9536,  1.4069, -0.0737, -0.4823]]],\n",
              "\n",
              "\n",
              "        [[[ 0.6860, -0.0272, -1.6665,  1.0137,  0.4084],\n",
              "          [ 1.4944, -0.9612, -0.1143,  1.1143,  0.8748],\n",
              "          [-0.6228, -0.1744,  0.5178, -1.0929, -1.2644],\n",
              "          [-0.8838, -0.0452,  0.1991,  0.3865,  0.7900],\n",
              "          [-2.3536,  0.7363,  0.7118,  1.9419, -0.0105]],\n",
              "\n",
              "         [[-0.3680,  0.3631, -1.0206, -0.7269, -1.1949],\n",
              "          [-1.7986,  0.4627,  0.5083,  0.7114,  0.3856],\n",
              "          [-0.6010, -0.2089, -0.5197,  0.2416, -1.0542],\n",
              "          [-1.2691,  0.8454, -0.8886,  1.7003,  1.0163],\n",
              "          [ 0.3260, -0.0132, -1.3814,  0.1899, -0.6115]],\n",
              "\n",
              "         [[-1.4345, -0.4201,  0.9689,  0.1966, -0.1138],\n",
              "          [ 1.4060, -1.3586, -0.0821, -0.4863,  0.9449],\n",
              "          [ 0.8794,  1.2195, -0.4659, -0.5760,  0.7404],\n",
              "          [ 0.4237, -0.8410, -1.2035,  0.3538, -0.8724],\n",
              "          [ 2.2231, -0.1033,  0.1729,  0.2714,  1.9410]]]])"
            ]
          },
          "metadata": {},
          "execution_count": 15
        }
      ]
    },
    {
      "cell_type": "code",
      "source": [
        "naive_mean = img_t.mean(-3) # color channel always in -3 dim \n",
        "naive_mean"
      ],
      "metadata": {
        "colab": {
          "base_uri": "https://localhost:8080/"
        },
        "id": "BqxIpEjb1r7K",
        "outputId": "d93e518d-4fed-4483-809e-963cce8c1ee4"
      },
      "execution_count": 16,
      "outputs": [
        {
          "output_type": "execute_result",
          "data": {
            "text/plain": [
              "tensor([[-0.5656,  1.0586,  0.0288, -0.4815, -0.3625],\n",
              "        [ 0.6895, -0.0313, -0.0047, -0.2645, -0.5197],\n",
              "        [-0.5146,  0.0468, -0.4991, -0.6224, -0.7534],\n",
              "        [-0.0109, -0.1012, -0.3445,  0.5234, -0.0391],\n",
              "        [-0.0800, -0.1747, -0.3112,  0.0676, -0.5619]])"
            ]
          },
          "metadata": {},
          "execution_count": 16
        }
      ]
    },
    {
      "cell_type": "code",
      "source": [
        "naive_mean_batch = batch_t.mean(-3)\n",
        "naive_mean_batch"
      ],
      "metadata": {
        "colab": {
          "base_uri": "https://localhost:8080/"
        },
        "id": "LxYGUCJh2tXb",
        "outputId": "e468d405-4d9f-433a-b3f0-4aad377c7c95"
      },
      "execution_count": 17,
      "outputs": [
        {
          "output_type": "execute_result",
          "data": {
            "text/plain": [
              "tensor([[[ 0.6338,  0.6671,  0.1393,  0.1847,  0.1095],\n",
              "         [-0.8772,  0.5128,  0.1811,  0.6350, -0.5214],\n",
              "         [ 0.1913, -0.4960,  0.2988,  0.2697, -0.0584],\n",
              "         [-0.7406,  0.2305, -0.1099,  0.5894,  0.4548],\n",
              "         [-0.8283,  0.3236,  0.5057, -1.2778, -0.3638]],\n",
              "\n",
              "        [[-0.3722, -0.0281, -0.5727,  0.1611, -0.3001],\n",
              "         [ 0.3673, -0.6191,  0.1039,  0.4465,  0.7351],\n",
              "         [-0.1148,  0.2787, -0.1559, -0.4758, -0.5261],\n",
              "         [-0.5764, -0.0136, -0.6310,  0.8135,  0.3113],\n",
              "         [ 0.0652,  0.2066, -0.1655,  0.8011,  0.4397]]])"
            ]
          },
          "metadata": {},
          "execution_count": 17
        }
      ]
    },
    {
      "cell_type": "code",
      "source": [
        "img_named = img_t.refine_names(..., 'channels', \"rows\", \"columns\")\n",
        "print(img_named.names)\n",
        "print(img_named)"
      ],
      "metadata": {
        "colab": {
          "base_uri": "https://localhost:8080/"
        },
        "id": "p0wQ7-wo29z_",
        "outputId": "b28818c9-49a4-4fb3-b41d-f6d79de11750"
      },
      "execution_count": 18,
      "outputs": [
        {
          "output_type": "stream",
          "name": "stdout",
          "text": [
            "('channels', 'rows', 'columns')\n",
            "tensor([[[-1.0714,  0.7227, -0.5737, -1.2088, -2.3827],\n",
            "         [ 0.7370,  0.7265, -0.0058,  0.5456, -1.0798],\n",
            "         [-0.9563,  0.4465, -0.4841, -1.4084,  1.2396],\n",
            "         [ 0.1648,  0.7255, -1.0176, -0.3961,  1.2667],\n",
            "         [-0.4282,  1.8189, -1.9494,  0.7315,  0.2276]],\n",
            "\n",
            "        [[-1.4434,  2.0784,  0.2849, -0.4295,  0.3663],\n",
            "         [ 0.1256, -0.3490,  0.2076,  0.1503, -1.2166],\n",
            "         [-0.8474, -0.2729, -0.9191,  0.1632, -1.7498],\n",
            "         [ 0.5047,  0.5355,  0.3769,  0.9339, -1.5844],\n",
            "         [ 0.0509, -1.5843, -0.2231, -0.1557, -1.2971]],\n",
            "\n",
            "        [[ 0.8181,  0.3747,  0.3752,  0.1938,  0.9288],\n",
            "         [ 1.2059, -0.4715, -0.2159, -1.4894,  0.7375],\n",
            "         [ 0.2599, -0.0332, -0.0941, -0.6221, -1.7500],\n",
            "         [-0.7021, -1.5647, -0.3929,  1.0325,  0.2003],\n",
            "         [ 0.1372, -0.7587,  1.2389, -0.3729, -0.6160]]],\n",
            "       names=('channels', 'rows', 'columns'))\n"
          ]
        },
        {
          "output_type": "stream",
          "name": "stderr",
          "text": [
            "/usr/local/lib/python3.9/dist-packages/torch/_tensor.py:1106: UserWarning: Named tensors and all their associated APIs are an experimental feature and subject to change. Please do not use them for anything important until they are released as stable. (Triggered internally at ../c10/core/TensorImpl.h:1758.)\n",
            "  return super(Tensor, self).refine_names(names)\n"
          ]
        }
      ]
    },
    {
      "cell_type": "code",
      "source": [
        "batch_named = batch_t.refine_names(..., \"batch\", \"channel\", \"row\", \"column\")\n",
        "print(batch_named.names)\n",
        "print(batch_named)"
      ],
      "metadata": {
        "colab": {
          "base_uri": "https://localhost:8080/"
        },
        "id": "iUb_Jeti5FwP",
        "outputId": "e225ce36-92bf-4a34-ca23-c2d366ef3dfd"
      },
      "execution_count": 19,
      "outputs": [
        {
          "output_type": "stream",
          "name": "stdout",
          "text": [
            "('batch', 'channel', 'row', 'column')\n",
            "tensor([[[[ 0.6844,  1.0396,  1.2126,  0.4277, -0.4749],\n",
            "          [-1.0605, -0.2526, -0.2784,  1.6753, -1.7571],\n",
            "          [-0.3885, -0.1276,  0.5997, -0.9648,  1.0531],\n",
            "          [ 0.7124,  0.0458, -2.1058,  0.6450, -0.0145],\n",
            "          [-1.7360,  1.5836, -0.0319, -2.2871,  0.7897]],\n",
            "\n",
            "         [[ 1.8229, -0.1632, -0.5728,  0.5831,  1.3264],\n",
            "          [-0.8084,  1.2089, -0.5431, -0.0116, -0.1253],\n",
            "          [ 1.1339, -0.5829, -0.6747,  0.4423,  0.1714],\n",
            "          [-1.2242,  1.2151,  0.9279,  2.2232,  1.0453],\n",
            "          [ 0.7949,  0.3410,  0.1420, -1.4725, -1.3989]],\n",
            "\n",
            "         [[-0.6060,  1.1249, -0.2220, -0.4567, -0.5230],\n",
            "          [-0.7625,  0.5823,  1.3648,  0.2413,  0.3181],\n",
            "          [-0.1713, -0.7775,  0.9715,  1.3315, -1.3996],\n",
            "          [-1.7100, -0.5694,  0.8481, -1.0999,  0.3336],\n",
            "          [-1.5439, -0.9536,  1.4069, -0.0737, -0.4823]]],\n",
            "\n",
            "\n",
            "        [[[ 0.6860, -0.0272, -1.6665,  1.0137,  0.4084],\n",
            "          [ 1.4944, -0.9612, -0.1143,  1.1143,  0.8748],\n",
            "          [-0.6228, -0.1744,  0.5178, -1.0929, -1.2644],\n",
            "          [-0.8838, -0.0452,  0.1991,  0.3865,  0.7900],\n",
            "          [-2.3536,  0.7363,  0.7118,  1.9419, -0.0105]],\n",
            "\n",
            "         [[-0.3680,  0.3631, -1.0206, -0.7269, -1.1949],\n",
            "          [-1.7986,  0.4627,  0.5083,  0.7114,  0.3856],\n",
            "          [-0.6010, -0.2089, -0.5197,  0.2416, -1.0542],\n",
            "          [-1.2691,  0.8454, -0.8886,  1.7003,  1.0163],\n",
            "          [ 0.3260, -0.0132, -1.3814,  0.1899, -0.6115]],\n",
            "\n",
            "         [[-1.4345, -0.4201,  0.9689,  0.1966, -0.1138],\n",
            "          [ 1.4060, -1.3586, -0.0821, -0.4863,  0.9449],\n",
            "          [ 0.8794,  1.2195, -0.4659, -0.5760,  0.7404],\n",
            "          [ 0.4237, -0.8410, -1.2035,  0.3538, -0.8724],\n",
            "          [ 2.2231, -0.1033,  0.1729,  0.2714,  1.9410]]]],\n",
            "       names=('batch', 'channel', 'row', 'column'))\n"
          ]
        }
      ]
    },
    {
      "cell_type": "code",
      "source": [
        "a = torch.ones(3, 2)\n",
        "a_t = torch.transpose(a, 0, 1)\n",
        "a, a_t"
      ],
      "metadata": {
        "colab": {
          "base_uri": "https://localhost:8080/"
        },
        "id": "9evAHogh5ZIj",
        "outputId": "502bd376-5b2f-4a79-c7ec-6079cf21b8d4"
      },
      "execution_count": 20,
      "outputs": [
        {
          "output_type": "execute_result",
          "data": {
            "text/plain": [
              "(tensor([[1., 1.],\n",
              "         [1., 1.],\n",
              "         [1., 1.]]), tensor([[1., 1., 1.],\n",
              "         [1., 1., 1.]]))"
            ]
          },
          "metadata": {},
          "execution_count": 20
        }
      ]
    },
    {
      "cell_type": "code",
      "source": [
        "b = torch.tensor([[1, 2, 3], [4, 5, 6]])\n",
        "b"
      ],
      "metadata": {
        "colab": {
          "base_uri": "https://localhost:8080/"
        },
        "id": "wVh1YuQB6SID",
        "outputId": "08f33a6c-9f27-4877-86ba-8bf48f4de93a"
      },
      "execution_count": 21,
      "outputs": [
        {
          "output_type": "execute_result",
          "data": {
            "text/plain": [
              "tensor([[1, 2, 3],\n",
              "        [4, 5, 6]])"
            ]
          },
          "metadata": {},
          "execution_count": 21
        }
      ]
    },
    {
      "cell_type": "code",
      "source": [
        "torch.transpose(b, 0, 1)"
      ],
      "metadata": {
        "colab": {
          "base_uri": "https://localhost:8080/"
        },
        "id": "_8Vp4W4U63TR",
        "outputId": "616261e2-0fcd-4d7b-9a03-0a63c3f28f39"
      },
      "execution_count": 22,
      "outputs": [
        {
          "output_type": "execute_result",
          "data": {
            "text/plain": [
              "tensor([[1, 4],\n",
              "        [2, 5],\n",
              "        [3, 6]])"
            ]
          },
          "metadata": {},
          "execution_count": 22
        }
      ]
    },
    {
      "cell_type": "code",
      "source": [
        "torch.transpose(b, 1, 0)"
      ],
      "metadata": {
        "colab": {
          "base_uri": "https://localhost:8080/"
        },
        "id": "9OSDYak167Xb",
        "outputId": "aa13ea92-d39d-481a-c3b1-2f5af7e0e583"
      },
      "execution_count": 23,
      "outputs": [
        {
          "output_type": "execute_result",
          "data": {
            "text/plain": [
              "tensor([[1, 4],\n",
              "        [2, 5],\n",
              "        [3, 6]])"
            ]
          },
          "metadata": {},
          "execution_count": 23
        }
      ]
    },
    {
      "cell_type": "code",
      "source": [
        "b.t()\n",
        "b"
      ],
      "metadata": {
        "colab": {
          "base_uri": "https://localhost:8080/"
        },
        "id": "8XTAU_q86-mq",
        "outputId": "9854b35c-c172-4a2e-d774-e6a5884a1c84"
      },
      "execution_count": 24,
      "outputs": [
        {
          "output_type": "execute_result",
          "data": {
            "text/plain": [
              "tensor([[1, 2, 3],\n",
              "        [4, 5, 6]])"
            ]
          },
          "metadata": {},
          "execution_count": 24
        }
      ]
    },
    {
      "cell_type": "code",
      "source": [
        "b.t()"
      ],
      "metadata": {
        "id": "jbUh_DXY7iRk",
        "outputId": "2b68c52e-1432-48a3-d104-df5845ad85fd",
        "colab": {
          "base_uri": "https://localhost:8080/"
        }
      },
      "execution_count": 25,
      "outputs": [
        {
          "output_type": "execute_result",
          "data": {
            "text/plain": [
              "tensor([[1, 4],\n",
              "        [2, 5],\n",
              "        [3, 6]])"
            ]
          },
          "metadata": {},
          "execution_count": 25
        }
      ]
    },
    {
      "cell_type": "markdown",
      "source": [
        "# Broadcasting"
      ],
      "metadata": {
        "id": "PwdeXWKrkKMu"
      }
    },
    {
      "cell_type": "code",
      "source": [
        "x = torch.ones(())\n",
        "y = torch.ones(3,1)\n",
        "z = torch.ones(1,3)\n",
        "a = torch.ones(2, 1, 1)"
      ],
      "metadata": {
        "id": "285PNUIjkMp9"
      },
      "execution_count": 27,
      "outputs": []
    },
    {
      "cell_type": "code",
      "source": [
        "y, y.shape"
      ],
      "metadata": {
        "colab": {
          "base_uri": "https://localhost:8080/"
        },
        "id": "_I7TN5G-lDga",
        "outputId": "c1cf3b22-932f-43f1-b227-c814d83c222b"
      },
      "execution_count": 31,
      "outputs": [
        {
          "output_type": "execute_result",
          "data": {
            "text/plain": [
              "(tensor([[1.],\n",
              "         [1.],\n",
              "         [1.]]), torch.Size([3, 1]))"
            ]
          },
          "metadata": {},
          "execution_count": 31
        }
      ]
    },
    {
      "cell_type": "code",
      "source": [
        "a, a.shape"
      ],
      "metadata": {
        "colab": {
          "base_uri": "https://localhost:8080/"
        },
        "id": "Hx0JkjlnlM3L",
        "outputId": "1fb97ea6-28be-412c-8de6-bb60bd4cf724"
      },
      "execution_count": 32,
      "outputs": [
        {
          "output_type": "execute_result",
          "data": {
            "text/plain": [
              "(tensor([[[1.]],\n",
              " \n",
              "         [[1.]]]), torch.Size([2, 1, 1]))"
            ]
          },
          "metadata": {},
          "execution_count": 32
        }
      ]
    },
    {
      "cell_type": "code",
      "source": [
        "y*a, (y*a).shape"
      ],
      "metadata": {
        "colab": {
          "base_uri": "https://localhost:8080/"
        },
        "id": "EHUY4gfTlhHA",
        "outputId": "0020334e-71a3-4abd-fce7-1f4ee25af168"
      },
      "execution_count": 34,
      "outputs": [
        {
          "output_type": "execute_result",
          "data": {
            "text/plain": [
              "(tensor([[[1.],\n",
              "          [1.],\n",
              "          [1.]],\n",
              " \n",
              "         [[1.],\n",
              "          [1.],\n",
              "          [1.]]]), torch.Size([2, 3, 1]))"
            ]
          },
          "metadata": {},
          "execution_count": 34
        }
      ]
    },
    {
      "cell_type": "code",
      "source": [
        "c = torch.tensor([[1], [2], [3]])\n",
        "c.shape"
      ],
      "metadata": {
        "colab": {
          "base_uri": "https://localhost:8080/"
        },
        "id": "d0TOp57VlnGo",
        "outputId": "fce0c1f0-68a8-4b2b-823f-66c9f41dc671"
      },
      "execution_count": 36,
      "outputs": [
        {
          "output_type": "execute_result",
          "data": {
            "text/plain": [
              "torch.Size([3, 1])"
            ]
          },
          "metadata": {},
          "execution_count": 36
        }
      ]
    },
    {
      "cell_type": "code",
      "source": [
        "c*a, (c*a).shape"
      ],
      "metadata": {
        "colab": {
          "base_uri": "https://localhost:8080/"
        },
        "id": "077a2QGUmAwE",
        "outputId": "fecbfdb7-9c21-477f-b394-c7fac6e69f67"
      },
      "execution_count": 37,
      "outputs": [
        {
          "output_type": "execute_result",
          "data": {
            "text/plain": [
              "(tensor([[[1.],\n",
              "          [2.],\n",
              "          [3.]],\n",
              " \n",
              "         [[1.],\n",
              "          [2.],\n",
              "          [3.]]]), torch.Size([2, 3, 1]))"
            ]
          },
          "metadata": {},
          "execution_count": 37
        }
      ]
    },
    {
      "cell_type": "code",
      "source": [
        "y*z, (y*z).shape"
      ],
      "metadata": {
        "colab": {
          "base_uri": "https://localhost:8080/"
        },
        "id": "CbOK5xSsl4vb",
        "outputId": "e471027b-8836-41e7-8172-c596750f4f95"
      },
      "execution_count": 38,
      "outputs": [
        {
          "output_type": "execute_result",
          "data": {
            "text/plain": [
              "(tensor([[1., 1., 1.],\n",
              "         [1., 1., 1.],\n",
              "         [1., 1., 1.]]), torch.Size([3, 3]))"
            ]
          },
          "metadata": {},
          "execution_count": 38
        }
      ]
    },
    {
      "cell_type": "code",
      "source": [
        "c*z"
      ],
      "metadata": {
        "colab": {
          "base_uri": "https://localhost:8080/"
        },
        "id": "1aJPJEj9mQxT",
        "outputId": "7dc84e16-7758-4de1-e9e5-2b7c745b5d7b"
      },
      "execution_count": 39,
      "outputs": [
        {
          "output_type": "execute_result",
          "data": {
            "text/plain": [
              "tensor([[1., 1., 1.],\n",
              "        [2., 2., 2.],\n",
              "        [3., 3., 3.]])"
            ]
          },
          "metadata": {},
          "execution_count": 39
        }
      ]
    }
  ]
}